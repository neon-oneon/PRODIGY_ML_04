{
 "cells": [
  {
   "cell_type": "markdown",
   "metadata": {},
   "source": [
    "Project 4: Hand Gesture Volume Control"
   ]
  },
  {
   "cell_type": "markdown",
   "metadata": {},
   "source": [
    "Imports"
   ]
  },
  {
   "cell_type": "code",
   "execution_count": 116,
   "metadata": {},
   "outputs": [],
   "source": [
    "import cv2\n",
    "import mediapipe as mp\n",
    "import pyautogui\n"
   ]
  },
  {
   "cell_type": "code",
   "execution_count": 118,
   "metadata": {},
   "outputs": [
    {
     "name": "stderr",
     "output_type": "stream",
     "text": [
      "C:\\Users\\sumbi\\AppData\\Roaming\\Python\\Python312\\site-packages\\google\\protobuf\\symbol_database.py:55: UserWarning: SymbolDatabase.GetPrototype() is deprecated. Please use message_factory.GetMessageClass() instead. SymbolDatabase.GetPrototype() will be removed soon.\n",
      "  warnings.warn('SymbolDatabase.GetPrototype() is deprecated. Please '\n"
     ]
    }
   ],
   "source": [
    "cam = cv2.VideoCapture(0) #initialize webcam\n",
    "myhands = mp.solutions.hands.Hands() #initialize hands\n",
    "drawing_utils = mp.solutions.drawing_utils #initialize drawing utils\n",
    "x1 = y1 = x2 = y2 =0 #intialize coordinates\n",
    "while True:\n",
    "    _,image = cam.read()         #get video data\n",
    "    image = cv2.flip(image,1)    #mirror the video data\n",
    "    frame_height,frame_width, _ = image.shape  #get the frame height and width\n",
    "    rgbim = cv2.cvtColor(image,cv2.COLOR_BGR2RGB)  #mark coordinates\n",
    "    output = myhands.process(rgbim)                #process hand data\n",
    "    hands = output.multi_hand_landmarks            #process landmarks in the hand data\n",
    "    if hands:\n",
    "        for h in hands:\n",
    "            #drawing_utils.draw_landmarks(image,h) #used for marking every point in hand\n",
    "            landmarks = h.landmark                 #get landmarks for hand\n",
    "            for id, land in enumerate(landmarks):  \n",
    "                x = int(land.x * frame_width)\n",
    "                y = int(land.y* frame_height)\n",
    "                if id == 8:\n",
    "                    cv2.circle(img = image,center=(x,y), radius=10,color=(0, 0, 0), thickness = 1) #draws circle on index pointer\n",
    "                    x1 = x\n",
    "                    y1 = y\n",
    "                if id ==4:\n",
    "                    cv2.circle(img = image, center=(x,y), radius=10,color=(0, 0, 0), thickness =1) #draws circle on thumb pointer\n",
    "                    x2 = x\n",
    "                    y2 = y\n",
    "        dist = ((x2-x1)**2 + (y2-y1)**2)**0.5//4  #calculates the distance between index and thumb\n",
    "        #cv2.line(image,(x1,y1),(x2,y2),(255,0,0),2) #used for drawing a line between the tip of the index and thumb\n",
    "        if dist>20:   #if distnace is greater than 20 volume goes up\n",
    "            pyautogui.press(\"volumeup\")\n",
    "        elif dist<8:  #if the distance is smaller than 8 pixels, the screen goes off ending the program\n",
    "            break\n",
    "        else:\n",
    "            pyautogui.press(\"volumedown\") #if the distance is between 8 and 20 pixels, the volume goes down\n",
    "    cv2.imshow(\"Hand Volume Control\",image)\n",
    "    key = cv2.waitKey(10)\n",
    "    if key ==27: #the program can also be terminated using the ESC key\n",
    "        break\n",
    "cam.release()\n",
    "cv2.destroyAllWindows()\n"
   ]
  },
  {
   "cell_type": "markdown",
   "metadata": {},
   "source": [
    "End of program."
   ]
  }
 ],
 "metadata": {
  "kernelspec": {
   "display_name": "Python 3",
   "language": "python",
   "name": "python3"
  },
  "language_info": {
   "codemirror_mode": {
    "name": "ipython",
    "version": 3
   },
   "file_extension": ".py",
   "mimetype": "text/x-python",
   "name": "python",
   "nbconvert_exporter": "python",
   "pygments_lexer": "ipython3",
   "version": "3.12.3"
  }
 },
 "nbformat": 4,
 "nbformat_minor": 2
}
